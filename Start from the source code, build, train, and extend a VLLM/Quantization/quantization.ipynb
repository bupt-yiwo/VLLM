{
 "cells": [
  {
   "cell_type": "markdown",
   "metadata": {},
   "source": [
    "### AWQ"
   ]
  },
  {
   "cell_type": "code",
   "execution_count": null,
   "metadata": {},
   "outputs": [],
   "source": [
    "from model.modeling_qwen_llama import LlamaForCausalLM\n",
    "import torch\n",
    "from model.model_processing import LQ_Tokenizer\n",
    "\n",
    "model_path = \"/home/zhuyao/Sunpeng/llava_qwen/check_point/instruct_525k\"\n",
    "model = LlamaForCausalLM.from_pretrained(model_path,device_map = \"cuda:2\",torch_dtype=torch.float16,attn_implementation=\"flash_attention_2\",use_cache=False)\n",
    "\n",
    "min_image_tokens = 4\n",
    "max_image_tokens = 336\n",
    "processor_path = \"/home/zhuyao/Sunpeng/models/qwen_2B_instruct\"\n",
    "tokenizer_path = \"/home/zhuyao/Sunpeng/llava_qwen/tes\"\n",
    "\n",
    "lq_tokenizer = LQ_Tokenizer(tokenizer_path,processor_path,min_image_tokens,max_image_tokens)\n",
    "\n",
    "quant_path = \"/home/zhuyao/Sunpeng/llava_qwen/check_point/AWQ\"\n",
    "quant_config = {\"zero_point\": True, \"q_group_size\": 128, \"w_bit\": 4, \"version\": \"GEMM\"}\n",
    "\n",
    "\n",
    "dataset = [\n",
    "    [\n",
    "        {\n",
    "            \"role\": \"user\",\n",
    "            \"content\": [\n",
    "                {\"type\": \"image\", \"image\": \"/home/zhuyao/Sunpeng/274e3ef7c2bc430877b5e15d2838e1c1.jpg\"},\n",
    "                {\"type\": \"text\", \"text\": \"What does the girl's gentle smile and her white and gold attire convey, and how does the background with its futuristic city and text elements contribute to the overall atmosphere?\"},\n",
    "            ],\n",
    "        },\n",
    "        {\"role\": \"assistant\", \"content\": \"The girl's gentle smile and white and gold attire suggest an aura of innocence, purity, and warmth, possibly reflecting her role as a kind and virtuous character. The futuristic city in the background, combined with the soft blue tones and vertical text elements, creates a sense of calm and optimism, indicating a harmonious or utopian setting. This combination of character design and setting evokes themes of hope, progress, and serenity.\"},\n",
    "    ],\n",
    "    [\n",
    "        {\n",
    "            \"role\": \"user\",\n",
    "            \"content\": [\n",
    "                {\"type\": \"image\", \"image\": \"/home/zhuyao/Sunpeng/1732782139957.png\"},\n",
    "                {\"type\": \"text\", \"text\": \"What is the story behind the girl in the astronaut suit holding flowers in a field of red blooms, with a white cross in front of her and a looming celestial body in the background?\"},\n",
    "            ],\n",
    "        },\n",
    "        {\"role\": \"assistant\", \"content\": \"The girl in the astronaut suit appears to be visiting a grave marked by a white cross, symbolizing a moment of remembrance or mourning. The vibrant field of red flowers, likely representing poppies, could signify life, memory, or sacrifice. The presence of a looming celestial body in the background adds a sense of cosmic scale and mystery, suggesting that the story may involve themes of loss, exploration, or connection across worlds. The setting hints at a poignant blend of science fiction and emotional depth, possibly linked to a personal or collective tragedy.\"},\n",
    "    ]\n",
    "]\n",
    "\n",
    "\n",
    "inputs = lq_tokenizer(dataset)\n",
    "\n",
    "model.quantize(calib_data=inputs, quant_config=quant_config)\n",
    "\n",
    "model.model.config.use_cache = model.model.generation_config.use_cache = True\n",
    "model.save_quantized(quant_path, safetensors=True, shard_size=\"4GB\")"
   ]
  },
  {
   "cell_type": "markdown",
   "metadata": {},
   "source": [
    "The error 'LlamaForCausalLM' object has no attribute 'quantize' is normal because the LLaMA class does not implement this functionality. Since I don't have much knowledge about quantization, I haven't manually implemented it.\n",
    "\n",
    "However, you can use it through other quantization loading methods."
   ]
  },
  {
   "cell_type": "code",
   "execution_count": null,
   "metadata": {},
   "outputs": [],
   "source": [
    "from transformers import BitsAndBytesConfig\n",
    "\n",
    "bnb_config = BitsAndBytesConfig(\n",
    "    load_in_4bit=True,\n",
    "    bnb_4bit_quant_type=\"nf4\",\n",
    "    bnb_4bit_compute_dtype=torch.float16,\n",
    ")\n",
    "\n",
    "model = LlamaForCausalLM.from_pretrained(\n",
    "    model_path,\n",
    "    quantization_config=bnb_config,\n",
    "    device_map=\"cuda:2\"\n",
    ")"
   ]
  }
 ],
 "metadata": {
  "kernelspec": {
   "display_name": "benchmarkllava",
   "language": "python",
   "name": "python3"
  },
  "language_info": {
   "name": "python",
   "version": "3.10.15"
  }
 },
 "nbformat": 4,
 "nbformat_minor": 2
}
