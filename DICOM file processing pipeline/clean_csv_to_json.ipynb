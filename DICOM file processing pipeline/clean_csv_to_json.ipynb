{
 "cells": [
  {
   "cell_type": "markdown",
   "metadata": {},
   "source": [
    "## clean csv\n",
    "\n",
    "The following is the most basic example. In practical processing, there are many special situations, such as empty folders, etc., which require specific coding based on the specific task"
   ]
  },
  {
   "cell_type": "code",
   "execution_count": null,
   "metadata": {},
   "outputs": [],
   "source": [
    "import pandas as pd\n",
    "\n",
    "df_path = \"xx/CCA-具体的名称/xx.csv\"\n",
    "df = pd.read_csv(df_path)"
   ]
  },
  {
   "cell_type": "code",
   "execution_count": null,
   "metadata": {},
   "outputs": [],
   "source": [
    "df = df.drop('xx', axis=1)  # Leave the desired column"
   ]
  },
  {
   "cell_type": "code",
   "execution_count": null,
   "metadata": {},
   "outputs": [],
   "source": [
    "df.info() \n",
    "\"\"\"\n",
    "<class 'pandas.core.frame.DataFrame'>\n",
    "RangeIndex: 132 entries, 0 to 131\n",
    "Data columns (total 16 columns):\n",
    " #   Column                   Non-Null Count  Dtype  \n",
    "---  ------                   --------------  -----  \n",
    " 0   年龄                       132 non-null    object \n",
    " 1   有无淋巴结                    132 non-null    int64  \n",
    " 2   腹主动脉旁淋巴结转移               132 non-null    int64  \n",
    " 3   腹股沟（0；1：有）               132 non-null    int64  \n",
    " 4   肌层1：浅肌层，＜1/2；2：深肌层，＞1/2  100 non-null    object \n",
    " 5   宫体1:有，0：无                75 non-null     float64\n",
    " 6   阴道1:有，0：无                88 non-null     float64\n",
    " 7   宫旁浸润1:有，0：无              98 non-null     float64\n",
    " 8   影像描述                     132 non-null    object \n",
    " 9   影像诊断                     132 non-null    object \n",
    " 10  ADC                      120 non-null    object \n",
    " 11  DWI                      12 non-null     object \n",
    " 12  T1CA                     129 non-null    object \n",
    " 13  T1CS                     129 non-null    object \n",
    " 14  T2A                      131 non-null    object \n",
    " 15  T2S                      129 non-null    object \n",
    "dtypes: float64(3), int64(3), object(10)\n",
    "memory usage: 16.6+ KB\n",
    "\"\"\""
   ]
  },
  {
   "cell_type": "code",
   "execution_count": null,
   "metadata": {},
   "outputs": [],
   "source": [
    "df['ADC'] = df['ADC'].apply(lambda x: x.replace('/jhcnas5/disk2_data/宫颈癌/xx/宫颈癌病例--旧/宫颈癌无转移组', 'xx/downstream_data/xx医院病例') if pd.notnull(x) else x)\n",
    "df['DWI'] = df['DWI'].apply(lambda x: x.replace('/jhcnas5/disk2_data/宫颈癌/xx/宫颈癌病例--旧/宫颈癌无转移组', 'xx/downstream_data/xx医院病例') if pd.notnull(x) else x)\n",
    "df['T1CA'] = df['T1CA'].apply(lambda x: x.replace('/jhcnas5/disk2_data/宫颈癌/xx/宫颈癌病例--旧/宫颈癌无转移组', 'xx/downstream_data/xx医院病例') if pd.notnull(x) else x)\n",
    "df['T1CS'] = df['T1CS'].apply(lambda x: x.replace('/jhcnas5/disk2_data/宫颈癌/xx/宫颈癌病例--旧/宫颈癌无转移组', 'xx/downstream_data/xx医院病例') if pd.notnull(x) else x)\n",
    "df['T2A'] = df['T2A'].apply(lambda x: x.replace('/jhcnas5/disk2_data/宫颈癌/xx/宫颈癌病例--旧/宫颈癌无转移组', 'xx/downstream_data/xx医院病例') if pd.notnull(x) else x)\n",
    "df['T2S'] = df['T2S'].apply(lambda x: x.replace('/jhcnas5/disk2_data/宫颈癌/xx/宫颈癌病例--旧/宫颈癌无转移组', 'xx/downstream_data/xx医院病例') if pd.notnull(x) else x)"
   ]
  },
  {
   "cell_type": "code",
   "execution_count": null,
   "metadata": {},
   "outputs": [],
   "source": [
    "# Equivalent substitution of content\n",
    "df['肿瘤是否已侵入宫体'] = df['肿瘤是否已侵入宫体'].apply(lambda x: '肿瘤侵润浅肌层，深度小于一半' if x == '1' else x)\n",
    "df['肿瘤是否已侵入宫体'] = df['肿瘤是否已侵入宫体'].apply(lambda x: '肿瘤侵润深肌层，深度超过一半' if x == '2' else x)"
   ]
  },
  {
   "cell_type": "markdown",
   "metadata": {},
   "source": [
    "## Construct json"
   ]
  },
  {
   "cell_type": "code",
   "execution_count": null,
   "metadata": {},
   "outputs": [],
   "source": [
    "df_path = \"/home/zhuyao/Sunpeng/宫颈癌-xx院病例.csv\"\n",
    "\n",
    "df = pd.read_csv(df_path)"
   ]
  },
  {
   "cell_type": "code",
   "execution_count": null,
   "metadata": {},
   "outputs": [],
   "source": [
    "import json\n",
    "all_data = []\n",
    "for i in range(len(df)):\n",
    "    message = df.iloc[i].to_dict()\n",
    "    message['影像描述'] = message.pop('影像诊断')\n",
    "    message['影像诊断'] = message.pop('影像结论')\n",
    "    all_data.append(message)\n",
    "    \n",
    "with open(\"xx/downstream_data/xx.json\", 'w') as f :\n",
    "    json.dump(all_data,f,indent=4)\n",
    "\"\"\"\n",
    "Regarding Nan's situation, we will handle it later.\n",
    "After including Chinese content, we will also translate it into English.\n",
    "{'年龄': '50',\n",
    " '有无淋巴结': '无',\n",
    " '是否有肿瘤转移至靠近腹主动脉的淋巴结区域': '否',\n",
    " '髂股沟区域是否有异常淋巴结': '否',\n",
    " '肿瘤是否侵入肌层及其深度': '肿瘤侵润深肌层，深度超过一半',\n",
    " '肿瘤是否已侵入宫体': nan,\n",
    " '肿瘤是否侵润阴道': '否',\n",
    " '肿瘤是否侵润宫旁组织': '否',\n",
    " '影像描述': '宫颈增粗，内见一不规则软组织肿块影，主体位于后唇及右侧壁，大小约2.7X2.11.9cmT1WI呈等信号，T2WI呈稍高信号，DWI序列信号增高，宫颈基质T2信号减低，动态增强扫描肿块早期明显不均匀强化，晚期强化减低，病灶局限于宫颈内，达深肌层，浆膜层尚完整，阴道上段形态、信号未见明确异常。双侧骼内外淋巴结、闭孔淋巴结、腹股沟未见明确肿大淋巴结。子宫后壁可见一类圆形等T1稍长T2信号影，直径约0.8cm，DWI序列信号增高，动态增强扫描早期明显强化，晚期强化高于子宫肌层。子宫前壁偏右侧见一类圆形等T1短T2信号影，向宫外突出，直径约0.9cm，增强扫描强化与子宫肌层相仿。双侧附件未见明确异常信号及强化灶。膀胱壁欠佳，膀胱壁及膀胱内未见异常信号灶。盆底肌肉未见异常，盆腔骨质未见异常信号。',\n",
    " '影像诊断': '1.宫颈异常信号，考虑宫颈癌可能性大;2.子宫后壁异常信号影，小肌瘤?子宫前壁偏右侧异常信号影，考虑浆膜下肌瘤可能性大;请结合临床及相关检查考虑。',\n",
    " 'ADC': 'xx/304061/ADC',\n",
    " 'DWI': nan,\n",
    " 'T1CA': 'xx/304061/t1+c tra/MR/T1CA',\n",
    " 'T1CS': 'xx/304061/t1+c sag/MR/T1CS',\n",
    " 'T2A': 'xx/304061/t2tra/MR/T2A',\n",
    " 'T2S': 'xx/304061/t2sag/MR/T2S',\n",
    " 'patient': 'xx_20'}\n",
    "\"\"\""
   ]
  }
 ],
 "metadata": {
  "kernelspec": {
   "display_name": "data",
   "language": "python",
   "name": "python3"
  },
  "language_info": {
   "codemirror_mode": {
    "name": "ipython",
    "version": 3
   },
   "file_extension": ".py",
   "mimetype": "text/x-python",
   "name": "python",
   "nbconvert_exporter": "python",
   "pygments_lexer": "ipython3",
   "version": "3.10.15"
  }
 },
 "nbformat": 4,
 "nbformat_minor": 2
}
